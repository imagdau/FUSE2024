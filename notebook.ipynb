{
 "cells": [
  {
   "cell_type": "markdown",
   "metadata": {},
   "source": [
    "# FUSE 2024, Newcastle University: Machine learning molecular dynamics for battery materials\n",
    "\n",
    "This notebook is a small preview of the research work proposed for the 'Machine learning molecular dynamics for battery materials' FUSE2024 internship. The project will extend the work presented in this [recent paper](https://doi.org/10.1021/acs.macromol.0c02132). We will use modern Machine Learning techniques to automatically identify solvation structure and dynamics of ions in electrolytes and improve our theoretical understanding of ion transport."
   ]
  },
  {
   "cell_type": "markdown",
   "metadata": {},
   "source": [
    "## Part I: Warm-up, manipulating atomic trajectories"
   ]
  },
  {
   "cell_type": "markdown",
   "metadata": {},
   "source": [
    "Let us start by loading one of the [published](https://doi.org/10.1021/acs.macromol.0c02132) Molecular Dynamics (MD) trajectories. We will use the Atomic Simulation Environment ([ASE](https://wiki.fysik.dtu.dk/ase/)) package to manage atoms, molecules and trajectories."
   ]
  },
  {
   "cell_type": "code",
   "execution_count": 1,
   "metadata": {},
   "outputs": [],
   "source": [
    "from ase.io import read, write\n",
    "traj = read('data/trajectory.xyz', ':')"
   ]
  },
  {
   "cell_type": "code",
   "execution_count": 2,
   "metadata": {},
   "outputs": [
    {
     "data": {
      "application/vnd.jupyter.widget-view+json": {
       "model_id": "259ef36ea65649a2bfdc907fa91336b9",
       "version_major": 2,
       "version_minor": 0
      },
      "text/plain": []
     },
     "metadata": {},
     "output_type": "display_data"
    },
    {
     "data": {
      "application/vnd.jupyter.widget-view+json": {
       "model_id": "5a7e777900374a2388ac3311b66fb394",
       "version_major": 2,
       "version_minor": 0
      },
      "text/plain": [
       "NGLWidget(max_frame=449)"
      ]
     },
     "metadata": {},
     "output_type": "display_data"
    }
   ],
   "source": [
    "from ase.io import read\n",
    "import nglview as ng\n",
    "\n",
    "traj = read('data/trajectory.xyz', ':')\n",
    "view = ng.show_asetraj(traj)\n",
    "view.add_representation(repr_type='unitcell')\n",
    "view._set_size(w='100%', h='600px')\n",
    "view"
   ]
  },
  {
   "cell_type": "markdown",
   "metadata": {},
   "source": [
    "`Traj` is a list of `Atoms` objects. Each `Atoms` instance comprises all atomic positions, chemical elements etc for a given atomic configuration/snapshot (e.g. at time $t=0$). Let's check these values for the first configuration."
   ]
  },
  {
   "cell_type": "code",
   "execution_count": 3,
   "metadata": {},
   "outputs": [
    {
     "name": "stdout",
     "output_type": "stream",
     "text": [
      "The \"info\" field is a dictionary containing global information relevant to the entire configuration of atoms: {'Time': 1.0, 'Traj': 1, 'SEC_label': 1.0}\n",
      "Whereas the \"arrays\" field is a dictionary containing information pertaining to individual atom: dict_keys(['numbers', 'positions'])\n"
     ]
    }
   ],
   "source": [
    "at0 = traj[0].copy()\n",
    "print(f'The \"info\" field is a dictionary containing global information relevant to the entire configuration of atoms: {at0.info}')\n",
    "print(f'Whereas the \"arrays\" field is a dictionary containing information pertaining to individual atom: {at0.arrays.keys()}')"
   ]
  },
  {
   "cell_type": "markdown",
   "metadata": {},
   "source": [
    "**Exercise I**: ASE is a versatile package (consult the [documentation](https://wiki.fysik.dtu.dk/ase/)). You could get more familiar with its functionality by trying on your own:\n",
    "- what is the length of the trajectory (how many total atomic snapshots in `Traj`)?\n",
    "- how many atoms are there in each configuration? is this number constant across the trajectory?\n",
    "- how many atoms of each chemical element/species? (Hint: uses the `get_chemical_symbols()` method of the `Atoms` object)\n",
    "\n",
    "Test your code below:"
   ]
  },
  {
   "cell_type": "code",
   "execution_count": 4,
   "metadata": {},
   "outputs": [],
   "source": [
    "#######################\n",
    "### Experiment here ###\n",
    "#######################"
   ]
  },
  {
   "cell_type": "markdown",
   "metadata": {},
   "source": [
    "You may have noticed there is a single lithium ion $(Li^+)$ diffusing in the surrounding material. We can write a utility function that returns the index of the Li atom within an `Atoms` object (knowing there is a single Li ion)."
   ]
  },
  {
   "cell_type": "code",
   "execution_count": 5,
   "metadata": {},
   "outputs": [
    {
     "name": "stdout",
     "output_type": "stream",
     "text": [
      "The index of the lithium atom in snapshot 0 is 4176\n",
      "The index of the lithium atom in snapshot 1 is 4176\n",
      "The index of the lithium atom in snapshot 2 is 4176\n",
      "The index of the lithium atom in snapshot 3 is 4176\n",
      "The index of the lithium atom in snapshot 4 is 4176\n"
     ]
    }
   ],
   "source": [
    "from ase import Atoms\n",
    "def get_Li_index(at: Atoms) -> int:\n",
    "    id = at.get_chemical_symbols().index('Li')\n",
    "    return id\n",
    "\n",
    "for i, at in enumerate(traj[:5]):\n",
    "    print(f'The index of the lithium atom in snapshot {i} is {get_Li_index(at)}')"
   ]
  },
  {
   "cell_type": "markdown",
   "metadata": {},
   "source": [
    "Ions are the workhorse of modern rechargeable batteries. Here, Li ions transport one positive charge through a polymer material via a hopping mechanism: the ion spends most of the time solvated by surrounding molecules/functional groups, and every once in a while it hops to a different solvation environment. The process repeats and the ion gradually diffuses away from the original position. We would like to characterize those solvation environments and understand:\n",
    "- how many types of solvation environments are there in this material\n",
    "- how are the environments distributed etc\n",
    "\n",
    "Let's start by creating a function which takes an atomic configuration/snapshot and returns the atomic environment surrounding the lithium ion"
   ]
  },
  {
   "cell_type": "code",
   "execution_count": 6,
   "metadata": {},
   "outputs": [],
   "source": [
    "import numpy as np\n",
    "\n",
    "def sel_atomic_env(at, rcut):\n",
    "    #input at config is passed by reference, making a copy avoids overwriting\n",
    "    at_env = at.copy()\n",
    "    \n",
    "    #wrap atoms across the periodic boundaries so that the Li atom is the middle of the cell\n",
    "    Li_id = get_Li_index(at)\n",
    "    frac_orig = at_env.get_scaled_positions()[Li_id,:]\n",
    "    at_env.wrap(center=frac_orig)\n",
    "    \n",
    "    #translate the middle of the cell to (0,0,0)\n",
    "    real_orig = at_env.get_positions()[Li_id,:]\n",
    "    at_env.translate(-real_orig)\n",
    "    \n",
    "    #compute all distances from (0,0,0) and delete atoms further than rcut\n",
    "    r = np.sqrt((at_env.positions**2).sum(1))    \n",
    "    del at_env[r>rcut]\n",
    "    at_env.pbc = False\n",
    "    at_env.cell = None\n",
    "    \n",
    "    return at_env"
   ]
  },
  {
   "cell_type": "markdown",
   "metadata": {},
   "source": [
    "Now we can display the atomic environment within a 6 $\\rm\\AA$ cutoff around the lithium ion in the first snapshot"
   ]
  },
  {
   "cell_type": "code",
   "execution_count": 7,
   "metadata": {},
   "outputs": [
    {
     "data": {
      "application/vnd.jupyter.widget-view+json": {
       "model_id": "d659b5d801a8429483c72e2b91aaed3e",
       "version_major": 2,
       "version_minor": 0
      },
      "text/plain": [
       "NGLWidget()"
      ]
     },
     "metadata": {},
     "output_type": "display_data"
    }
   ],
   "source": [
    "rcut = 6.0\n",
    "at0_env = sel_atomic_env(at0, rcut)\n",
    "\n",
    "# visualization function with special handling of central lithium\n",
    "def view_at_anv(at0_env):\n",
    "    view = ng.show_ase(at0_env)\n",
    "    view._set_size(w='100%', h='600px')\n",
    "    view.clear_representations()\n",
    "    Li_id = get_Li_index(at0_env)\n",
    "    all_other_atoms = [i for i in range(len(at)) if i != Li_id]\n",
    "    view.add_representation(repr_type='ball+stick', selection=[Li_id])\n",
    "    view.add_representation(repr_type='ball+stick', selection=all_other_atoms)\n",
    "    return view\n",
    "\n",
    "view_at_anv(at0_env)"
   ]
  },
  {
   "cell_type": "markdown",
   "metadata": {},
   "source": [
    "## Part II: Using Atomic Descriptors to featurize the atomic environments"
   ]
  },
  {
   "cell_type": "markdown",
   "metadata": {},
   "source": [
    "We have extracted the Li atomic environment from the first trajectory snapshot. Once we eventually process the entire trajectory, we will have 450 independent environments. However, many of these environments are very similar to each other and we would like to classify them into specific types of solvation characterized by their molecular arrangement around the ion. For this task, we will use Atomic Descriptors developed by the [Machine Learning Interatomic Potential (MLIP)](https://arxiv.org/abs/2401.00096) community to fit force fields. These atomic descriptors are ML features which map the atomic neighbourhood of a target atom to higher-dimensional space with special properties: translational, rotational and permutational invariance. Let us explore this concept in a bit more depth."
   ]
  },
  {
   "cell_type": "markdown",
   "metadata": {},
   "source": [
    "We will start with a small atomic environment around the Li atom and remove all hydrogen atoms."
   ]
  },
  {
   "cell_type": "code",
   "execution_count": 8,
   "metadata": {},
   "outputs": [
    {
     "data": {
      "application/vnd.jupyter.widget-view+json": {
       "model_id": "6567409b9c7d439c86b5e4c887ffbbe9",
       "version_major": 2,
       "version_minor": 0
      },
      "text/plain": [
       "NGLWidget()"
      ]
     },
     "metadata": {},
     "output_type": "display_data"
    }
   ],
   "source": [
    "env = sel_atomic_env(at0, 3.0)\n",
    "del env[env.numbers==1] #remove H atoms to simplify the environment\n",
    "view_at_anv(env)"
   ]
  },
  {
   "cell_type": "code",
   "execution_count": 9,
   "metadata": {},
   "outputs": [
    {
     "name": "stdout",
     "output_type": "stream",
     "text": [
      "Number of Li neighbours is: 9\n"
     ]
    }
   ],
   "source": [
    "print(f'Number of Li neighbours is: {len(env)-1}')"
   ]
  },
  {
   "cell_type": "markdown",
   "metadata": {},
   "source": [
    "The Li solvation environment is determined by the atoms surrounding the Li: their positions (3D) and their chemical species (1D). In total, this environment is determined by 8x3+8x1=32 numbers (at this cutoff, ignoring H atoms). In other words, we can think of the environment as a vector in 32-dimensional space.\n",
    "\n",
    "**Exercise II:** How does the dimensionality of this environment vector change with the cutoff value? How can we check that?"
   ]
  },
  {
   "cell_type": "code",
   "execution_count": 10,
   "metadata": {},
   "outputs": [],
   "source": [
    "#######################\n",
    "### Experiment here ###\n",
    "#######################"
   ]
  },
  {
   "cell_type": "markdown",
   "metadata": {},
   "source": [
    "To compare two different environments, we would need to compare the 32 numbers, for example, we could compute the distance in $\\mathbb{R}^{32}$. sIn comparing these environments, the problem is that certain operations like rotation, translation and like-atom permutations change the vector in $\\mathbb{R}^{32}$ but the environments remain the same: our environment is not uniquely determined by the vector (there are in fact an infinity of vectors which determine the same environment).\n",
    "Here is where Atomic Descriptors become very useful:"
   ]
  },
  {
   "cell_type": "code",
   "execution_count": 11,
   "metadata": {},
   "outputs": [
    {
     "name": "stdout",
     "output_type": "stream",
     "text": [
      "Using Materials Project MACE for MACECalculator with /Users/imagdau/.cache/mace/5yyxdm76\n",
      "Using float32 for MACECalculator, which is faster but less accurate. Recommended for MD. Use float64 for geometry optimization.\n",
      "Default dtype float32 does not match model dtype float64, converting models to float32.\n",
      "Descriptor dimensionality: (128,)\n"
     ]
    }
   ],
   "source": [
    "from mace.calculators import mace_mp\n",
    "import warnings\n",
    "warnings.filterwarnings(\"ignore\")\n",
    "\n",
    "mace = mace_mp()\n",
    "\n",
    "# compute descriptors for each atom in the environment\n",
    "desc = mace.get_descriptors(env, num_layers=1)\n",
    "\n",
    "# keep the descriptors for the Li atom\n",
    "desc = desc[get_Li_index(env), :]\n",
    "\n",
    "print(f'Descriptor dimensionality: {desc.shape}')"
   ]
  },
  {
   "cell_type": "markdown",
   "metadata": {},
   "source": [
    "These atomic descriptors have a higher dimensionality than the original vector in $\\mathbb{R}^{32}$, in fact for this model specifications (for more detail check [equations 1-10](https://doi.org/10.1063/5.0155322)) they live in $\\mathbb{R}^{128}$, so what have we gained? These new vectors are rotationally, translationally and permutationally invariant so they uniquely determine each solvation environment. Let's check that! Here are some translated, rotated and permutationally reordered environments:"
   ]
  },
  {
   "cell_type": "code",
   "execution_count": 12,
   "metadata": {},
   "outputs": [
    {
     "name": "stdout",
     "output_type": "stream",
     "text": [
      "Original\n",
      "[[ 1.30186  0.16996 -1.66855]\n",
      " [ 0.52108 -1.22342 -1.60123]\n",
      " [-1.00491 -1.11352 -1.45901]\n",
      " [-0.83115 -0.24222  1.97786]\n",
      " [-1.40707  0.86789  1.38266]\n",
      " [-0.64457  1.71505  0.58722]\n",
      " [-1.32882  2.6032  -0.25682]\n",
      " [ 1.84362  0.6863   2.11764]\n",
      " [ 0.57577 -0.5466   2.0822 ]\n",
      " [ 0.       0.       0.     ]]\n"
     ]
    }
   ],
   "source": [
    "print('Original')\n",
    "print(env.positions)"
   ]
  },
  {
   "cell_type": "code",
   "execution_count": 13,
   "metadata": {},
   "outputs": [
    {
     "name": "stdout",
     "output_type": "stream",
     "text": [
      "Translated\n",
      "[[11.30186  3.16996  0.33145]\n",
      " [10.52108  1.77658  0.39877]\n",
      " [ 8.99509  1.88648  0.54099]\n",
      " [ 9.16885  2.75778  3.97786]\n",
      " [ 8.59293  3.86789  3.38266]\n",
      " [ 9.35543  4.71505  2.58722]\n",
      " [ 8.67118  5.6032   1.74318]\n",
      " [11.84362  3.6863   4.11764]\n",
      " [10.57577  2.4534   4.0822 ]\n",
      " [10.       3.       2.     ]]\n"
     ]
    }
   ],
   "source": [
    "print('Translated')\n",
    "env_trs = env.copy()\n",
    "env_trs.translate([10,3,2])\n",
    "print(env_trs.positions)"
   ]
  },
  {
   "cell_type": "code",
   "execution_count": 14,
   "metadata": {},
   "outputs": [
    {
     "name": "stdout",
     "output_type": "stream",
     "text": [
      "Rotated\n",
      "[[ 0.15077851  1.31363771 -1.66114622]\n",
      " [-0.0106811  -0.22355916 -2.06932974]\n",
      " [-1.20089368 -0.9512613  -1.42528502]\n",
      " [ 0.40693839 -1.22974261  1.72729421]\n",
      " [-0.70244491 -0.44286174  1.98878665]\n",
      " [-0.75437146  0.87169035  1.5403811 ]\n",
      " [-2.00787043  1.50244368  1.52298675]\n",
      " [ 2.34172458  0.82716546  1.47866996]\n",
      " [ 1.6864693  -0.79536672  1.22026742]\n",
      " [ 0.          0.          0.        ]]\n"
     ]
    }
   ],
   "source": [
    "print('Rotated')\n",
    "env_rot = env.copy()\n",
    "env_rot.rotate(45, (1,1,1))\n",
    "print(env_rot.positions)"
   ]
  },
  {
   "cell_type": "code",
   "execution_count": 15,
   "metadata": {},
   "outputs": [
    {
     "name": "stdout",
     "output_type": "stream",
     "text": [
      "Permuted\n",
      "[[ 0.57577 -0.5466   2.0822 ]\n",
      " [ 0.52108 -1.22342 -1.60123]\n",
      " [ 1.84362  0.6863   2.11764]\n",
      " [-0.64457  1.71505  0.58722]\n",
      " [-0.83115 -0.24222  1.97786]\n",
      " [ 0.       0.       0.     ]\n",
      " [-1.00491 -1.11352 -1.45901]\n",
      " [-1.32882  2.6032  -0.25682]\n",
      " [-1.40707  0.86789  1.38266]\n",
      " [ 1.30186  0.16996 -1.66855]]\n"
     ]
    }
   ],
   "source": [
    "print('Permuted')\n",
    "order = np.random.permutation(len(env))\n",
    "env_per = env[order]\n",
    "print(env_per.positions)"
   ]
  },
  {
   "cell_type": "markdown",
   "metadata": {},
   "source": [
    "**Exercise III**: Using these examples, how could we check if Atomic Descriptors are invariant to the operations enumerated above?"
   ]
  },
  {
   "cell_type": "code",
   "execution_count": 16,
   "metadata": {},
   "outputs": [],
   "source": [
    "#######################\n",
    "### Experiment here ###\n",
    "#######################"
   ]
  },
  {
   "cell_type": "markdown",
   "metadata": {},
   "source": [
    "Finding appropriate Atomic Descriptors has become an entire [filed of science](https://doi.org/10.1021/acs.chemrev.1c00022) in its own rights. The MACE descriptors shown here are some of the most smooth, complete and efficient descriptors found so far. Let us now compute the descriptors for the entire trajectory and arrange the data into a single matrix of numbers"
   ]
  },
  {
   "cell_type": "code",
   "execution_count": 17,
   "metadata": {},
   "outputs": [
    {
     "name": "stderr",
     "output_type": "stream",
     "text": [
      "  0%|          | 0/450 [00:00<?, ?it/s]"
     ]
    },
    {
     "name": "stderr",
     "output_type": "stream",
     "text": [
      "100%|██████████| 450/450 [01:26<00:00,  5.20it/s]\n"
     ]
    }
   ],
   "source": [
    "from tqdm import tqdm\n",
    "\n",
    "envs = []\n",
    "descs  = []\n",
    "\n",
    "#loop through the entire trajectory\n",
    "for at in tqdm(traj):\n",
    "    #find the atommic environment surrounding the Li ion\n",
    "    env = sel_atomic_env(at, rcut=5.0)\n",
    "    \n",
    "    #remove hydrogen atoms to reduce dimensionality\n",
    "    del env[env.numbers==1] #remove H atoms\n",
    "    envs.append(env)\n",
    "    \n",
    "    #isolate the descriptors corresponding to the Li atom\n",
    "    idx = get_Li_index(env)\n",
    "    \n",
    "    #add the new vector to the list of descriptors\n",
    "    descs.append(\n",
    "        mace.get_descriptors(env, num_layers=1)[idx,:]\n",
    "    )\n",
    "\n",
    "#transform the list of vectors into a matrix and normalize each line\n",
    "descs = np.vstack(descs)\n",
    "descs /= np.linalg.norm(descs, axis=1)[:, np.newaxis]"
   ]
  },
  {
   "cell_type": "markdown",
   "metadata": {},
   "source": [
    "## Part III: "
   ]
  },
  {
   "cell_type": "markdown",
   "metadata": {},
   "source": [
    "We now have our 450 solvation environments encoded in a high-dimensional space:"
   ]
  },
  {
   "cell_type": "code",
   "execution_count": 18,
   "metadata": {},
   "outputs": [
    {
     "name": "stdout",
     "output_type": "stream",
     "text": [
      "Dimensionality of the data is: (450, 128)\n"
     ]
    }
   ],
   "source": [
    "print(f'Dimensionality of the data is: {descs.shape}')"
   ]
  },
  {
   "cell_type": "markdown",
   "metadata": {},
   "source": [
    "It would be great to visualize this feature space and check which solvation environments are similar to each other. In other words, check which points cluster together. [Dimensionality reduction](https://en.wikipedia.org/wiki/Dimensionality_reduction) techniques can be used to project our $\\mathbb{R}^{128} feature space into e.g. 2D, where we can easily visualize it. One popular dimensionality reduction technique is [UMAP](https://umap-learn.readthedocs.io/en/latest/):"
   ]
  },
  {
   "cell_type": "code",
   "execution_count": 134,
   "metadata": {},
   "outputs": [
    {
     "name": "stdout",
     "output_type": "stream",
     "text": [
      "This transformer reduces our original data from (450, 128) to (450, 2)\n"
     ]
    }
   ],
   "source": [
    "from umap import UMAP\n",
    "\n",
    "reducer = UMAP(n_neighbors=100, min_dist=0.01, n_components=2, random_state=42)\n",
    "descs_reduced = reducer.fit_transform(descs)\n",
    "\n",
    "print(f'This transformer reduces our original data from {descs.shape} to {descs_reduced.shape}')"
   ]
  },
  {
   "cell_type": "markdown",
   "metadata": {},
   "source": [
    "Now we can visualize this data projection (which is designed to maintain the clustering structure):"
   ]
  },
  {
   "cell_type": "code",
   "execution_count": 135,
   "metadata": {},
   "outputs": [
    {
     "data": {
      "text/plain": [
       "<matplotlib.collections.PathCollection at 0x7fb73dd745b0>"
      ]
     },
     "execution_count": 135,
     "metadata": {},
     "output_type": "execute_result"
    },
    {
     "data": {
      "image/png": "[encoded data removed]",
      "text/plain": [
       "<Figure size 640x480 with 1 Axes>"
      ]
     },
     "metadata": {},
     "output_type": "display_data"
    }
   ],
   "source": [
    "from matplotlib import pyplot as plt\n",
    "\n",
    "plt.scatter(descs_reduced[:,0], descs_reduced[:,1], s=15)"
   ]
  },
  {
   "cell_type": "markdown",
   "metadata": {},
   "source": [
    "This projection suggests there are three classes of solvation environments. Within each class, environments are similar to each-other. We can use clustering techniques to automatically assign each data point to a class (the [ward metric](https://scikit-learn.org/stable/auto_examples/cluster/plot_linkage_comparison.html) is a popular option):"
   ]
  },
  {
   "cell_type": "code",
   "execution_count": 136,
   "metadata": {},
   "outputs": [
    {
     "data": {
      "image/png": "[encoded data removed]",
      "text/plain": [
       "<Figure size 1700x700 with 2 Axes>"
      ]
     },
     "metadata": {},
     "output_type": "display_data"
    }
   ],
   "source": [
    "from scipy.cluster.hierarchy import linkage, dendrogram\n",
    "import matplotlib.pyplot as plt\n",
    "\n",
    "plt.figure(figsize=(17, 7))\n",
    "\n",
    "threshold = 1.5\n",
    "linkage_matrix = linkage(descs, method='ward')\n",
    "plt.subplot(1,2,1)\n",
    "R = dendrogram(linkage_matrix, color_threshold=threshold, no_labels=True, above_threshold_color='gray')\n",
    "plt.axhline(y=threshold, color='gray', linestyle='--')\n",
    "plt.title('Hierarchical Clustering Dendrogram')\n",
    "plt.xlabel('Data Points')\n",
    "plt.ylabel('Distance')\n",
    "\n",
    "#sort the colors according to the original order of the data points\n",
    "_, cols = zip(*sorted(zip(R['leaves'], R['leaves_color_list'])))\n",
    "\n",
    "plt.subplot(1,2,2)\n",
    "plt.scatter(descs_reduced[:,0], descs_reduced[:,1], c=cols, s=20)\n",
    "plt.xticks([])\n",
    "plt.yticks([])\n",
    "plt.title('Embedding')\n",
    "plt.show()"
   ]
  },
  {
   "cell_type": "markdown",
   "metadata": {},
   "source": [
    "**Exercise IV:** How can we understand this [denrogram](https://docs.scipy.org/doc/scipy/reference/generated/scipy.cluster.hierarchy.dendrogram.html). What happens if we adjust the `threshold` level? What is this `threshold`?"
   ]
  },
  {
   "cell_type": "code",
   "execution_count": 22,
   "metadata": {},
   "outputs": [],
   "source": [
    "#######################\n",
    "### Experiment here ###\n",
    "#######################"
   ]
  },
  {
   "cell_type": "markdown",
   "metadata": {},
   "source": [
    "**Exercise V:** How does this result compare with the original paper? The original labels are stored in **env.info['SEC_label']** (-1 represent environments which could not be placed in any category)."
   ]
  },
  {
   "cell_type": "code",
   "execution_count": 23,
   "metadata": {},
   "outputs": [],
   "source": [
    "#######################\n",
    "### Experiment here ###\n",
    "#######################"
   ]
  }
 ],
 "metadata": {
  "kernelspec": {
   "display_name": "FUSE",
   "language": "python",
   "name": "python3"
  },
  "language_info": {
   "codemirror_mode": {
    "name": "ipython",
    "version": 3
   },
   "file_extension": ".py",
   "mimetype": "text/x-python",
   "name": "python",
   "nbconvert_exporter": "python",
   "pygments_lexer": "ipython3",
   "version": "3.10.14"
  }
 },
 "nbformat": 4,
 "nbformat_minor": 2
}
